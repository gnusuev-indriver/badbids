{
 "cells": [
  {
   "cell_type": "code",
   "execution_count": 2,
   "metadata": {},
   "outputs": [],
   "source": [
    "%load_ext autoreload\n",
    "%autoreload 2"
   ]
  },
  {
   "cell_type": "code",
   "execution_count": 3,
   "metadata": {},
   "outputs": [],
   "source": [
    "import pathlib\n",
    "import warnings\n",
    "warnings.filterwarnings(\"ignore\")\n",
    "\n",
    "import pathlib\n",
    "import pandas as pd\n",
    "from pathlib import Path\n",
    "import numpy as np\n",
    "from datetime import timedelta\n",
    "\n",
    "import matplotlib.pyplot as plt\n",
    "import seaborn as sns\n",
    "import plotly.express as px\n",
    "from plotly.subplots import make_subplots\n",
    "import plotly.graph_objects as go\n",
    "import plotly.offline as pyo\n",
    "import mmh3\n",
    "from typing import Dict\n",
    "\n",
    "\n",
    "\n",
    "from src.download_AB import download_experiment_data, download_recprice_data, download_order_data, download_bid_data\n",
    "from src.metrics_AB import calculate_absolute_metrics, get_switchback_results, calculate_ratio_metrics\n",
    "from src.prepare import prepare_recprice_data, prepare_order_data, prepare_bid_data, get_orders_with_recprice_df, get_hex\n",
    "from src.visualization import plot_switches_matrix, plot_conversions_by_time, plot_prices_by_time\n",
    "from src.visualization import plot_metric_by_time, plot_metric_by_hex"
   ]
  },
  {
   "cell_type": "markdown",
   "metadata": {},
   "source": [
    "## SB Results: Bad Bids\n",
    "\n",
    "- link"
   ]
  },
  {
   "cell_type": "markdown",
   "metadata": {},
   "source": [
    "### Костыли"
   ]
  },
  {
   "cell_type": "code",
   "execution_count": 4,
   "metadata": {},
   "outputs": [],
   "source": [
    "# salt - рандомная строка длиной 8 хранится в experiment.salt\n",
    "# distribution_map - словарь вида {\"GroupA\": 50, \"Control\": 50}, где сумма значений должна быть 100\n",
    "#  Порядок важен! Control всегда последний\n",
    "def group_name(split_id: str, salt: str, distribution_map: Dict[str, int]):\n",
    "    if sum(distribution_map.values()) != 100:\n",
    "        raise Exception(\"Incorrect distribution\")\n",
    "\n",
    "    if list(distribution_map.keys())[-1] != \"Control\":\n",
    "        raise Exception(\"Last group should be Control\")\n",
    "\n",
    "    if len(salt) != 8:\n",
    "        raise Exception(\"Incorrect salt\")\n",
    "\n",
    "    # Хэш по соль экспа + split_id (id пользователя или девайса)\n",
    "    murmur_hash: int = mmh3.hash(f\"{salt}{split_id}\", 1, False)\n",
    "    reminder = murmur_hash % 100\n",
    "    s = 0\n",
    "    for k, v in distribution_map.items():\n",
    "        s += v\n",
    "        if reminder < s:\n",
    "            return k"
   ]
  },
  {
   "cell_type": "markdown",
   "metadata": {},
   "source": [
    "### Parameters"
   ]
  },
  {
   "cell_type": "markdown",
   "metadata": {},
   "source": [
    "__Mutable__"
   ]
  },
  {
   "cell_type": "code",
   "execution_count": 5,
   "metadata": {},
   "outputs": [],
   "source": [
    "EXP_ID = 2640\n",
    "USER_NAME = 'nusuev_ab'+str(EXP_ID)\n",
    "\n",
    "ORDER_TYPE = 'auto_econom'\n",
    "ORDER_TYPE_ID = 1\n",
    "\n",
    "DAYS_BEFORE = 0"
   ]
  },
  {
   "cell_type": "markdown",
   "metadata": {},
   "source": [
    "__Immutable__"
   ]
  },
  {
   "cell_type": "code",
   "execution_count": 6,
   "metadata": {},
   "outputs": [],
   "source": [
    "DATA_ROOT_PATH = pathlib.Path(f'data/exp_id={EXP_ID}')\n",
    "if not DATA_ROOT_PATH.exists():\n",
    "    DATA_ROOT_PATH.mkdir(parents=True, exist_ok=True)\n",
    "    \n",
    "\n",
    "PLOT_ROOT_PATH = pathlib.Path(f'data/exp_id={EXP_ID}/plots')\n",
    "if not PLOT_ROOT_PATH.exists():\n",
    "    PLOT_ROOT_PATH.mkdir(parents=True, exist_ok=True)"
   ]
  },
  {
   "cell_type": "markdown",
   "metadata": {},
   "source": [
    "### Experiment Data"
   ]
  },
  {
   "cell_type": "markdown",
   "metadata": {},
   "source": [
    "__Download__"
   ]
  },
  {
   "cell_type": "code",
   "execution_count": 6,
   "metadata": {},
   "outputs": [
    {
     "name": "stdout",
     "output_type": "stream",
     "text": [
      "\n",
      "    before_start_date: 2025-02-28\n",
      "    exp_start_date: 2025-02-28\n",
      "    exp_stop_date: 2025-03-28\n",
      "    city_id: 4196\n",
      "    exp_salt: G82FXbXL\n",
      "    distribution_map: {'GroupA': 50, 'Control': 50}\n",
      "    \n"
     ]
    }
   ],
   "source": [
    "df_exp = download_experiment_data(exp_id=EXP_ID, user_name=USER_NAME)\n",
    "\n",
    "# df_exp['hour'] = df_exp['switch_start_dttm'].dt.hour\n",
    "# df_exp['hour'] = df_exp['hour'].astype('category')\n",
    "# df_exp['weekday_name'] = df_exp['switch_start_dttm'].dt.day_name()\n",
    "# df_exp['weekday_name'] = df_exp['weekday_name'].astype('category')\n",
    "\n",
    "df_exp.to_parquet(DATA_ROOT_PATH / 'df_exp.pqt')\n",
    "\n",
    "EXP_START_DATE = df_exp.utc_start_dttm.dt.date.astype('str').iloc[0]\n",
    "EXP_STOP_DATE = df_exp.utc_finish_dttm.dt.date.astype('str').iloc[0]\n",
    "BEFORE_START_DATE = (df_exp.utc_start_dttm.dt.date - timedelta(days=DAYS_BEFORE)).astype('str').iloc[0]\n",
    "CITY_ID = df_exp.city_id.iloc[0]\n",
    "# EXP_NAME = df_exp.exp_name.iloc[0]\n",
    "\n",
    "EXP_SALT = df_exp['exp_salt'].iloc[0]\n",
    "DISTRIBUTION_MAP = {\"GroupA\": 50, \"Control\": 50}\n",
    "\n",
    "print(\n",
    "    f\"\"\"\n",
    "    before_start_date: {BEFORE_START_DATE}\n",
    "    exp_start_date: {EXP_START_DATE}\n",
    "    exp_stop_date: {EXP_STOP_DATE}\n",
    "    city_id: {CITY_ID}\n",
    "    exp_salt: {EXP_SALT}\n",
    "    distribution_map: {DISTRIBUTION_MAP}\n",
    "    \"\"\"\n",
    ")"
   ]
  },
  {
   "cell_type": "markdown",
   "metadata": {},
   "source": [
    "__Validity__"
   ]
  },
  {
   "cell_type": "markdown",
   "metadata": {},
   "source": [
    "### Metrics Data"
   ]
  },
  {
   "cell_type": "markdown",
   "metadata": {},
   "source": [
    "__Recprice__"
   ]
  },
  {
   "cell_type": "code",
   "execution_count": 7,
   "metadata": {},
   "outputs": [],
   "source": [
    "df_recprice = download_recprice_data(\n",
    "    start_date=BEFORE_START_DATE,\n",
    "    stop_date=EXP_STOP_DATE,\n",
    "    city_id=CITY_ID,\n",
    "    user_name=USER_NAME,\n",
    "    # printBool=True\n",
    ")\n",
    "\n",
    "# Применяем функцию group_name к каждой строке, используя user_id как split_id\n",
    "df_recprice['recprice_group_name'] = df_recprice.apply(\n",
    "    lambda row: 'Before' if row['utc_recprice_dttm'] < pd.Timestamp(EXP_START_DATE, tz='UTC') \n",
    "    else group_name(row['user_id'], EXP_SALT, DISTRIBUTION_MAP),\n",
    "    axis=1\n",
    ")\n",
    "\n",
    "df_recprice.to_parquet(DATA_ROOT_PATH / 'df_recprice.pqt')"
   ]
  },
  {
   "cell_type": "code",
   "execution_count": 8,
   "metadata": {},
   "outputs": [],
   "source": [
    "df_recprice = pd.read_parquet(DATA_ROOT_PATH / 'df_recprice.pqt')\n",
    "df_recprice_prepared = prepare_recprice_data(df_recprice)\n",
    "df_recprice_prepared.to_parquet(DATA_ROOT_PATH / 'df_recprice_prepared.pqt')"
   ]
  },
  {
   "cell_type": "markdown",
   "metadata": {},
   "source": [
    "__Bids__"
   ]
  },
  {
   "cell_type": "code",
   "execution_count": 9,
   "metadata": {},
   "outputs": [],
   "source": [
    "df_bids = download_bid_data(\n",
    "    start_date=BEFORE_START_DATE,\n",
    "    stop_date=EXP_STOP_DATE,\n",
    "    city_id=CITY_ID,\n",
    "    user_name=USER_NAME,\n",
    "    # printBool=True\n",
    ")\n",
    "\n",
    "# Применяем функцию group_name к каждой строке, используя user_id как split_id\n",
    "df_bids['bid_group_name'] = df_bids.apply(\n",
    "    lambda row: 'Before' if row['utc_order_dttm'] < pd.Timestamp(EXP_START_DATE, tz='UTC') \n",
    "    else group_name(row['user_id'], EXP_SALT, DISTRIBUTION_MAP),\n",
    "    axis=1\n",
    ")\n",
    "\n",
    "df_bids.to_parquet(DATA_ROOT_PATH / 'df_bids.pqt')"
   ]
  },
  {
   "cell_type": "code",
   "execution_count": 10,
   "metadata": {},
   "outputs": [],
   "source": [
    "df_bids = pd.read_parquet(DATA_ROOT_PATH / 'df_bids.pqt')\n",
    "df_bids_prepared = prepare_bid_data(df_bids)\n",
    "df_bids_prepared.to_parquet(DATA_ROOT_PATH / 'df_bids_prepared.pqt')"
   ]
  },
  {
   "cell_type": "markdown",
   "metadata": {},
   "source": [
    "__Orders (with recprice)__"
   ]
  },
  {
   "cell_type": "code",
   "execution_count": 11,
   "metadata": {},
   "outputs": [],
   "source": [
    "df_orders = download_order_data(\n",
    "    start_date=BEFORE_START_DATE,\n",
    "    stop_date=EXP_STOP_DATE,\n",
    "    city_id=CITY_ID,\n",
    "    user_name=USER_NAME,\n",
    "    # printBool=False\n",
    ")\n",
    "\n",
    "# Применяем функцию group_name к каждой строке, используя user_id как split_id\n",
    "df_orders['order_group_name'] = df_orders.apply(\n",
    "    lambda row: 'Before' if row['utc_order_dttm'] < pd.Timestamp(EXP_START_DATE, tz='UTC') \n",
    "    else group_name(row['user_id'], EXP_SALT, DISTRIBUTION_MAP),\n",
    "    axis=1\n",
    ")\n",
    "\n",
    "df_orders.to_parquet(DATA_ROOT_PATH / 'df_orders.pqt')"
   ]
  },
  {
   "cell_type": "code",
   "execution_count": 12,
   "metadata": {},
   "outputs": [],
   "source": [
    "df_orders = pd.read_parquet(DATA_ROOT_PATH / 'df_orders.pqt')\n",
    "df_orders_prepared = prepare_order_data(df_orders)\n",
    "df_orders_prepared.to_parquet(DATA_ROOT_PATH / 'df_orders_prepared.pqt')"
   ]
  },
  {
   "cell_type": "code",
   "execution_count": 13,
   "metadata": {},
   "outputs": [
    {
     "name": "stdout",
     "output_type": "stream",
     "text": [
      "только уникальные ордера? – True\n",
      "доля оставшихся ордеров: 0.9683\n"
     ]
    }
   ],
   "source": [
    "df_orders_with_recprice = get_orders_with_recprice_df(df_orders_prepared, df_recprice_prepared)\n",
    "df_orders_with_recprice['group_name'] = df_orders_with_recprice['recprice_group_name']\n",
    "df_orders_with_recprice.to_parquet(DATA_ROOT_PATH / 'df_orders_with_recprice.pqt')"
   ]
  },
  {
   "cell_type": "markdown",
   "metadata": {},
   "source": [
    "### Results"
   ]
  },
  {
   "cell_type": "code",
   "execution_count": 14,
   "metadata": {},
   "outputs": [],
   "source": [
    "# EXP_ID = 2574\n",
    "# DATA_ROOT_PATH = pathlib.Path(f'data/exp_id={EXP_ID}')\n",
    "\n",
    "# df_recprice_prepared = pd.read_parquet(DATA_ROOT_PATH / 'df_recprice_prepared.pqt')\n",
    "# df_orders_with_recprice = pd.read_parquet(DATA_ROOT_PATH / 'df_orders_with_recprice.pqt')"
   ]
  },
  {
   "cell_type": "code",
   "execution_count": 15,
   "metadata": {},
   "outputs": [],
   "source": [
    "pd.set_option('display.max_rows', None)\n",
    "# pd.reset_option('display.max_rows')"
   ]
  },
  {
   "cell_type": "code",
   "execution_count": 7,
   "metadata": {},
   "outputs": [],
   "source": [
    "df_recprice_prepared = pd.read_parquet(DATA_ROOT_PATH / 'df_recprice_prepared.pqt')\n",
    "df_orders_with_recprice = pd.read_parquet(DATA_ROOT_PATH / 'df_orders_with_recprice.pqt')\n",
    "df_bids_prepared = pd.read_parquet(DATA_ROOT_PATH / 'df_bids_prepared.pqt')"
   ]
  },
  {
   "cell_type": "markdown",
   "metadata": {},
   "source": [
    "__Total__"
   ]
  },
  {
   "cell_type": "code",
   "execution_count": 8,
   "metadata": {},
   "outputs": [
    {
     "ename": "ZeroDivisionError",
     "evalue": "float division by zero",
     "output_type": "error",
     "traceback": [
      "\u001b[0;31m---------------------------------------------------------------------------\u001b[0m",
      "\u001b[0;31mZeroDivisionError\u001b[0m                         Traceback (most recent call last)",
      "Cell \u001b[0;32mIn[8], line 8\u001b[0m\n\u001b[1;32m      1\u001b[0m df_metrics_total \u001b[38;5;241m=\u001b[39m calculate_absolute_metrics(\n\u001b[1;32m      2\u001b[0m     df_recprice_prepared,\n\u001b[1;32m      3\u001b[0m     df_orders_with_recprice,\n\u001b[1;32m      4\u001b[0m     df_bids_prepared,\n\u001b[1;32m      5\u001b[0m     group_cols\u001b[38;5;241m=\u001b[39m[\u001b[38;5;124m'\u001b[39m\u001b[38;5;124mgroup_name\u001b[39m\u001b[38;5;124m'\u001b[39m],\n\u001b[1;32m      6\u001b[0m )\n\u001b[0;32m----> 8\u001b[0m metrics_total_tbl \u001b[38;5;241m=\u001b[39m \u001b[43mget_switchback_results\u001b[49m\u001b[43m(\u001b[49m\u001b[43mdf_metrics_total\u001b[49m\u001b[43m,\u001b[49m\u001b[43m \u001b[49m\u001b[43malpha\u001b[49m\u001b[38;5;241;43m=\u001b[39;49m\u001b[38;5;241;43m0.05\u001b[39;49m\u001b[43m)\u001b[49m[\n\u001b[1;32m      9\u001b[0m     [\u001b[38;5;124m'\u001b[39m\u001b[38;5;124mmetric\u001b[39m\u001b[38;5;124m'\u001b[39m, \u001b[38;5;124m'\u001b[39m\u001b[38;5;124mcontrol_value\u001b[39m\u001b[38;5;124m'\u001b[39m, \u001b[38;5;124m'\u001b[39m\u001b[38;5;124mexperimental_value\u001b[39m\u001b[38;5;124m'\u001b[39m, \u001b[38;5;124m'\u001b[39m\u001b[38;5;124muplift_rel\u001b[39m\u001b[38;5;124m'\u001b[39m, \u001b[38;5;124m'\u001b[39m\u001b[38;5;124mpvalue\u001b[39m\u001b[38;5;124m'\u001b[39m, \u001b[38;5;124m'\u001b[39m\u001b[38;5;124mis_significant\u001b[39m\u001b[38;5;124m'\u001b[39m]\n\u001b[1;32m     10\u001b[0m ]\n\u001b[1;32m     12\u001b[0m metrics_total_tbl\u001b[38;5;241m.\u001b[39mhead()\n",
      "File \u001b[0;32m~/PycharmProjects/work/badbids/exp_anal/SB/results/src/metrics_AB.py:189\u001b[0m, in \u001b[0;36mget_switchback_results\u001b[0;34m(df, alpha, metric_list, groups)\u001b[0m\n\u001b[1;32m    187\u001b[0m \u001b[38;5;28;01mfor\u001b[39;00m i \u001b[38;5;129;01min\u001b[39;00m metric_list:\n\u001b[1;32m    188\u001b[0m     pipeline \u001b[38;5;241m=\u001b[39m RatioMetricHypothesisTestingPipeline(df, i[\u001b[38;5;241m0\u001b[39m], i[\u001b[38;5;241m1\u001b[39m], i[\u001b[38;5;241m2\u001b[39m], groups)\n\u001b[0;32m--> 189\u001b[0m     \u001b[43mpipeline\u001b[49m\u001b[38;5;241;43m.\u001b[39;49m\u001b[43mrun\u001b[49m\u001b[43m(\u001b[49m\u001b[43m)\u001b[49m\n\u001b[1;32m    190\u001b[0m     res_list\u001b[38;5;241m.\u001b[39mappend(pipeline\u001b[38;5;241m.\u001b[39mresult)\n\u001b[1;32m    191\u001b[0m df_res \u001b[38;5;241m=\u001b[39m pd\u001b[38;5;241m.\u001b[39mDataFrame(res_list)\n",
      "File \u001b[0;32m~/PycharmProjects/work/badbids/exp_anal/SB/results/src/pipeline.py:23\u001b[0m, in \u001b[0;36mRatioMetricHypothesisTestingPipeline.run\u001b[0;34m(self)\u001b[0m\n\u001b[1;32m     21\u001b[0m \u001b[38;5;28mself\u001b[39m\u001b[38;5;241m.\u001b[39mlinearize_data()\n\u001b[1;32m     22\u001b[0m \u001b[38;5;28mself\u001b[39m\u001b[38;5;241m.\u001b[39mcalc_pvalue()\n\u001b[0;32m---> 23\u001b[0m \u001b[38;5;28;43mself\u001b[39;49m\u001b[38;5;241;43m.\u001b[39;49m\u001b[43mcalc_effect_size\u001b[49m\u001b[43m(\u001b[49m\u001b[43m)\u001b[49m\n\u001b[1;32m     24\u001b[0m \u001b[38;5;28mself\u001b[39m\u001b[38;5;241m.\u001b[39mcalc_n_obs()\n\u001b[1;32m     25\u001b[0m \u001b[38;5;28mself\u001b[39m\u001b[38;5;241m.\u001b[39mcalc_power()\n",
      "File \u001b[0;32m~/PycharmProjects/work/badbids/exp_anal/SB/results/src/pipeline.py:98\u001b[0m, in \u001b[0;36mRatioMetricHypothesisTestingPipeline.calc_effect_size\u001b[0;34m(self)\u001b[0m\n\u001b[1;32m     96\u001b[0m n1, n2 \u001b[38;5;241m=\u001b[39m \u001b[38;5;28mlen\u001b[39m(control_lin), \u001b[38;5;28mlen\u001b[39m(experimental_lin)\n\u001b[1;32m     97\u001b[0m s1, s2 \u001b[38;5;241m=\u001b[39m np\u001b[38;5;241m.\u001b[39mvar(control_lin, ddof\u001b[38;5;241m=\u001b[39m\u001b[38;5;241m1\u001b[39m), np\u001b[38;5;241m.\u001b[39mvar(experimental_lin, ddof\u001b[38;5;241m=\u001b[39m\u001b[38;5;241m1\u001b[39m)\n\u001b[0;32m---> 98\u001b[0m s \u001b[38;5;241m=\u001b[39m np\u001b[38;5;241m.\u001b[39msqrt(\u001b[43m(\u001b[49m\u001b[43m(\u001b[49m\u001b[43mn1\u001b[49m\u001b[43m \u001b[49m\u001b[38;5;241;43m-\u001b[39;49m\u001b[43m \u001b[49m\u001b[38;5;241;43m1\u001b[39;49m\u001b[43m)\u001b[49m\u001b[43m \u001b[49m\u001b[38;5;241;43m*\u001b[39;49m\u001b[43m \u001b[49m\u001b[43ms1\u001b[49m\u001b[43m \u001b[49m\u001b[38;5;241;43m+\u001b[39;49m\u001b[43m \u001b[49m\u001b[43m(\u001b[49m\u001b[43mn2\u001b[49m\u001b[43m \u001b[49m\u001b[38;5;241;43m-\u001b[39;49m\u001b[43m \u001b[49m\u001b[38;5;241;43m1\u001b[39;49m\u001b[43m)\u001b[49m\u001b[43m \u001b[49m\u001b[38;5;241;43m*\u001b[39;49m\u001b[43m \u001b[49m\u001b[43ms2\u001b[49m\u001b[43m)\u001b[49m\u001b[43m \u001b[49m\u001b[38;5;241;43m/\u001b[39;49m\u001b[43m \u001b[49m\u001b[43m(\u001b[49m\u001b[43mn1\u001b[49m\u001b[43m \u001b[49m\u001b[38;5;241;43m+\u001b[39;49m\u001b[43m \u001b[49m\u001b[43mn2\u001b[49m\u001b[43m \u001b[49m\u001b[38;5;241;43m-\u001b[39;49m\u001b[43m \u001b[49m\u001b[38;5;241;43m2\u001b[39;49m\u001b[43m)\u001b[49m)\n\u001b[1;32m     99\u001b[0m u1, u2 \u001b[38;5;241m=\u001b[39m np\u001b[38;5;241m.\u001b[39mmean(control_lin), np\u001b[38;5;241m.\u001b[39mmean(experimental_lin)\n\u001b[1;32m    100\u001b[0m \u001b[38;5;28mself\u001b[39m\u001b[38;5;241m.\u001b[39mresult[\u001b[38;5;124m\"\u001b[39m\u001b[38;5;124meffect_size\u001b[39m\u001b[38;5;124m\"\u001b[39m] \u001b[38;5;241m=\u001b[39m (u2 \u001b[38;5;241m-\u001b[39m u1) \u001b[38;5;241m/\u001b[39m s\n",
      "\u001b[0;31mZeroDivisionError\u001b[0m: float division by zero"
     ]
    }
   ],
   "source": [
    "df_metrics_total = calculate_absolute_metrics(\n",
    "    df_recprice_prepared,\n",
    "    df_orders_with_recprice,\n",
    "    df_bids_prepared,\n",
    "    group_cols=['group_name'],\n",
    ")\n",
    "\n",
    "metrics_total_tbl = get_switchback_results(df_metrics_total, alpha=0.05)[\n",
    "    ['metric', 'control_value', 'experimental_value', 'uplift_rel', 'pvalue', 'is_significant']\n",
    "]\n",
    "\n",
    "metrics_total_tbl.head()"
   ]
  },
  {
   "cell_type": "markdown",
   "metadata": {},
   "source": [
    "__By segment__"
   ]
  },
  {
   "cell_type": "code",
   "execution_count": null,
   "metadata": {},
   "outputs": [],
   "source": [
    "condition_on_recprice = df_recprice_prepared.order_type_id == ORDER_TYPE_ID\n",
    "condition_on_orders = df_orders_with_recprice.order_type == ORDER_TYPE\n",
    "condition_on_bids = df_bids_prepared.order_type == ORDER_TYPE\n",
    "\n",
    "df_metrics_total = calculate_absolute_metrics(\n",
    "    df_recprice_prepared[condition_on_recprice].copy(),\n",
    "    df_orders_with_recprice[condition_on_orders].copy(),\n",
    "    df_bids_prepared[condition_on_bids].copy(),\n",
    "    group_cols=['group_name', 'switch_start_dttm', 'switch_finish_dttm'],\n",
    ")\n",
    "\n",
    "metrics_total_tbl = get_switchback_results(df_metrics_total, alpha=0.05)[\n",
    "    ['metric', 'control_value', 'experimental_value', 'uplift_rel', 'pvalue', 'is_significant']\n",
    "]\n",
    "\n",
    "metrics_total_tbl"
   ]
  },
  {
   "cell_type": "code",
   "execution_count": null,
   "metadata": {},
   "outputs": [],
   "source": []
  }
 ],
 "metadata": {
  "kernelspec": {
   "display_name": "py38",
   "language": "python",
   "name": "python3"
  },
  "language_info": {
   "codemirror_mode": {
    "name": "ipython",
    "version": 3
   },
   "file_extension": ".py",
   "mimetype": "text/x-python",
   "name": "python",
   "nbconvert_exporter": "python",
   "pygments_lexer": "ipython3",
   "version": "3.8.19"
  }
 },
 "nbformat": 4,
 "nbformat_minor": 2
}
